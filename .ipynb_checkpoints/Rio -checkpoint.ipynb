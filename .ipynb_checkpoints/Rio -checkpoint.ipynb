{
 "cells": [
  {
   "cell_type": "markdown",
   "metadata": {},
   "source": [
    "# Loading data into Pandas\n"
   ]
  },
  {
   "cell_type": "code",
   "execution_count": 57,
   "metadata": {},
   "outputs": [],
   "source": [
    "#Python dependencies\n",
    "import pandas as pd\n",
    "import numpy as np\n",
    "import matplotlib.pyplot as plt\n",
    "import chardet"
   ]
  },
  {
   "cell_type": "code",
   "execution_count": 58,
   "metadata": {},
   "outputs": [
    {
     "name": "stdout",
     "output_type": "stream",
     "text": [
      "         DATE EMPLOYEE        ORIGIN   DESTINATION  TRAVEL_TIME_MINS\n",
      "0  30/12/2019      Joe     Oak Lawn   River Island         35.833556\n",
      "1  31/12/2019    Eddie  Forest Field     Blue View         27.285000\n",
      "2   1/01/2020    Eddie  Forest Field     Blue View         37.999444\n"
     ]
    }
   ],
   "source": [
    "with open(\"Activity dataset.csv\", 'rb') as f:\n",
    "    result = chardet.detect(f.read())\n",
    "\n",
    "df = pd.read_csv(\"Activity dataset.csv\", encoding=result['encoding'])\n",
    "print(df.head(3))"
   ]
  },
  {
   "cell_type": "code",
   "execution_count": 59,
   "metadata": {},
   "outputs": [
    {
     "data": {
      "text/html": [
       "<div>\n",
       "<style scoped>\n",
       "    .dataframe tbody tr th:only-of-type {\n",
       "        vertical-align: middle;\n",
       "    }\n",
       "\n",
       "    .dataframe tbody tr th {\n",
       "        vertical-align: top;\n",
       "    }\n",
       "\n",
       "    .dataframe thead th {\n",
       "        text-align: right;\n",
       "    }\n",
       "</style>\n",
       "<table border=\"1\" class=\"dataframe\">\n",
       "  <thead>\n",
       "    <tr style=\"text-align: right;\">\n",
       "      <th></th>\n",
       "      <th>TRAVEL_TIME_MINS</th>\n",
       "    </tr>\n",
       "  </thead>\n",
       "  <tbody>\n",
       "    <tr>\n",
       "      <th>count</th>\n",
       "      <td>733.000000</td>\n",
       "    </tr>\n",
       "    <tr>\n",
       "      <th>mean</th>\n",
       "      <td>35.442736</td>\n",
       "    </tr>\n",
       "    <tr>\n",
       "      <th>std</th>\n",
       "      <td>22.430712</td>\n",
       "    </tr>\n",
       "    <tr>\n",
       "      <th>min</th>\n",
       "      <td>-30.430000</td>\n",
       "    </tr>\n",
       "    <tr>\n",
       "      <th>25%</th>\n",
       "      <td>25.239444</td>\n",
       "    </tr>\n",
       "    <tr>\n",
       "      <th>50%</th>\n",
       "      <td>30.723611</td>\n",
       "    </tr>\n",
       "    <tr>\n",
       "      <th>75%</th>\n",
       "      <td>38.846944</td>\n",
       "    </tr>\n",
       "    <tr>\n",
       "      <th>max</th>\n",
       "      <td>330.265278</td>\n",
       "    </tr>\n",
       "  </tbody>\n",
       "</table>\n",
       "</div>"
      ],
      "text/plain": [
       "       TRAVEL_TIME_MINS\n",
       "count        733.000000\n",
       "mean          35.442736\n",
       "std           22.430712\n",
       "min          -30.430000\n",
       "25%           25.239444\n",
       "50%           30.723611\n",
       "75%           38.846944\n",
       "max          330.265278"
      ]
     },
     "execution_count": 59,
     "metadata": {},
     "output_type": "execute_result"
    }
   ],
   "source": [
    "df.describe()"
   ]
  },
  {
   "cell_type": "code",
   "execution_count": 60,
   "metadata": {},
   "outputs": [
    {
     "data": {
      "text/plain": [
       "DATE                 0\n",
       "EMPLOYEE             0\n",
       "ORIGIN               0\n",
       "DESTINATION          0\n",
       "TRAVEL_TIME_MINS    14\n",
       "dtype: int64"
      ]
     },
     "execution_count": 60,
     "metadata": {},
     "output_type": "execute_result"
    }
   ],
   "source": [
    "# Data cleaning \n",
    "# Check if any columns data has missing data\n",
    "# There is a column that has 14 missing data points and we need to find\n",
    "# out which employee did not fill those data\n",
    "df.isnull().sum()"
   ]
  },
  {
   "cell_type": "code",
   "execution_count": 61,
   "metadata": {},
   "outputs": [
    {
     "name": "stdout",
     "output_type": "stream",
     "text": [
      "EMPLOYEE        DATE        ORIGIN DESTINATION\n",
      "   Eddie   2/01/2021  Forest Field   Blue View\n",
      "   Eddie   5/01/2021  Forest Field   Blue View\n",
      "   Eddie   6/01/2021  Forest Field   Blue View\n",
      "   Eddie   9/01/2021  Forest Field   Blue View\n",
      "   Eddie   9/01/2021  Forest Field   Blue View\n",
      "   Eddie  10/01/2021  Forest Field   Blue View\n",
      "   Eddie  12/01/2021  Forest Field   Blue View\n",
      "   Eddie  13/01/2021  Forest Field   Blue View\n",
      "   Eddie  14/01/2021  Forest Field   Blue View\n",
      "   Eddie  16/01/2021  Forest Field   Blue View\n",
      "   Eddie  19/01/2021  Forest Field   Blue View\n",
      "   Eddie  21/01/2021  Forest Field   Blue View\n",
      "   Eddie  28/01/2021  Forest Field   Blue View\n",
      "   Eddie  29/01/2021  Forest Field   Blue View\n"
     ]
    }
   ],
   "source": [
    "# Employee: Eddie did not fill the data from the following data:\n",
    "null_travel_time = df[df['TRAVEL_TIME_MINS'].isnull()]\n",
    "print(null_travel_time[['EMPLOYEE', 'DATE', 'ORIGIN', 'DESTINATION']].to_string(index=False))"
   ]
  },
  {
   "cell_type": "code",
   "execution_count": 62,
   "metadata": {},
   "outputs": [
    {
     "data": {
      "text/plain": [
       "DATE                0\n",
       "EMPLOYEE            0\n",
       "ORIGIN              0\n",
       "DESTINATION         0\n",
       "TRAVEL_TIME_MINS    0\n",
       "dtype: int64"
      ]
     },
     "execution_count": 62,
     "metadata": {},
     "output_type": "execute_result"
    }
   ],
   "source": [
    "# Add the missing values as 0\n",
    "df[\"TRAVEL_TIME_MINS\"] = df['TRAVEL_TIME_MINS'].fillna(0)\n",
    "df.isnull().sum()"
   ]
  },
  {
   "cell_type": "code",
   "execution_count": 63,
   "metadata": {},
   "outputs": [
    {
     "name": "stdout",
     "output_type": "stream",
     "text": [
      "           DATE EMPLOYEE        ORIGIN DESTINATION  TRAVEL_TIME_MINS\n",
      "296   2/01/2021    Eddie  Forest Field   Blue View               0.0\n",
      "299   5/01/2021    Eddie  Forest Field   Blue View               0.0\n",
      "301   6/01/2021    Eddie  Forest Field   Blue View               0.0\n",
      "303   9/01/2021    Eddie  Forest Field   Blue View               0.0\n",
      "305   9/01/2021    Eddie  Forest Field   Blue View               0.0\n",
      "307  10/01/2021    Eddie  Forest Field   Blue View               0.0\n",
      "313  12/01/2021    Eddie  Forest Field   Blue View               0.0\n",
      "315  13/01/2021    Eddie  Forest Field   Blue View               0.0\n",
      "316  14/01/2021    Eddie  Forest Field   Blue View               0.0\n",
      "317  16/01/2021    Eddie  Forest Field   Blue View               0.0\n",
      "319  19/01/2021    Eddie  Forest Field   Blue View               0.0\n",
      "321  21/01/2021    Eddie  Forest Field   Blue View               0.0\n",
      "326  28/01/2021    Eddie  Forest Field   Blue View               0.0\n",
      "327  29/01/2021    Eddie  Forest Field   Blue View               0.0\n"
     ]
    }
   ],
   "source": [
    "#Display to proof that the missing data has been filled.\n",
    "null_travel_time = df[df['TRAVEL_TIME_MINS'] == 0].head(14)\n",
    "print(null_travel_time)"
   ]
  },
  {
   "cell_type": "code",
   "execution_count": 64,
   "metadata": {},
   "outputs": [
    {
     "name": "stdout",
     "output_type": "stream",
     "text": [
      "9\n",
      "    EMPLOYEE        DATE        ORIGIN    DESTINATION  TRAVEL_TIME_MINS\n",
      "448    Eddie  31/07/2021  Forest Field      Blue View        330.265278\n",
      "320     Andy  19/01/2021     Oak Lawn   Creek Springs        245.288056\n",
      "49     Eddie  27/02/2020  Forest Field      Blue View        228.486111\n",
      "648    Eddie  28/07/2022  Forest Field      Blue View        226.305556\n",
      "716    Eddie  30/10/2022  Forest Field      Blue View        162.993889\n",
      "393    Eddie  19/05/2021  Forest Field      Blue View        145.656389\n",
      "397    Harry  27/05/2021  Middle North   River Island        121.370000\n",
      "551    Eddie   5/02/2022  Forest Field      Blue View        106.420833\n",
      "512    Eddie  21/11/2021  Forest Field      Blue View        105.269167\n"
     ]
    }
   ],
   "source": [
    "# Display any outliers\n",
    "mean = df['TRAVEL_TIME_MINS'].mean()\n",
    "std = df['TRAVEL_TIME_MINS'].std()\n",
    "\n",
    "#Important metric to determine outliers known as a z_score. If it more then 3, it considered an outlier\n",
    "z_scores = (df['TRAVEL_TIME_MINS'] - mean) / std\n",
    "outliers = df[np.abs(z_scores) >= 3]\n",
    "print(len(outliers))\n",
    "\n",
    "#Sort the outliers from descending order (highest to lowest)\n",
    "sorted_outliers = outliers.sort_values(by='TRAVEL_TIME_MINS', ascending=False)\n",
    "print(sorted_outliers[['EMPLOYEE', 'DATE', 'ORIGIN', 'DESTINATION', 'TRAVEL_TIME_MINS']])"
   ]
  },
  {
   "cell_type": "code",
   "execution_count": 65,
   "metadata": {},
   "outputs": [
    {
     "data": {
      "text/html": [
       "<div>\n",
       "<style scoped>\n",
       "    .dataframe tbody tr th:only-of-type {\n",
       "        vertical-align: middle;\n",
       "    }\n",
       "\n",
       "    .dataframe tbody tr th {\n",
       "        vertical-align: top;\n",
       "    }\n",
       "\n",
       "    .dataframe thead th {\n",
       "        text-align: right;\n",
       "    }\n",
       "</style>\n",
       "<table border=\"1\" class=\"dataframe\">\n",
       "  <thead>\n",
       "    <tr style=\"text-align: right;\">\n",
       "      <th></th>\n",
       "      <th>TRAVEL_TIME_MINS</th>\n",
       "    </tr>\n",
       "  </thead>\n",
       "  <tbody>\n",
       "    <tr>\n",
       "      <th>count</th>\n",
       "      <td>747.000000</td>\n",
       "    </tr>\n",
       "    <tr>\n",
       "      <th>mean</th>\n",
       "      <td>34.871823</td>\n",
       "    </tr>\n",
       "    <tr>\n",
       "      <th>std</th>\n",
       "      <td>22.590203</td>\n",
       "    </tr>\n",
       "    <tr>\n",
       "      <th>min</th>\n",
       "      <td>0.000000</td>\n",
       "    </tr>\n",
       "    <tr>\n",
       "      <th>25%</th>\n",
       "      <td>25.057778</td>\n",
       "    </tr>\n",
       "    <tr>\n",
       "      <th>50%</th>\n",
       "      <td>30.530556</td>\n",
       "    </tr>\n",
       "    <tr>\n",
       "      <th>75%</th>\n",
       "      <td>38.690833</td>\n",
       "    </tr>\n",
       "    <tr>\n",
       "      <th>max</th>\n",
       "      <td>330.265278</td>\n",
       "    </tr>\n",
       "  </tbody>\n",
       "</table>\n",
       "</div>"
      ],
      "text/plain": [
       "       TRAVEL_TIME_MINS\n",
       "count        747.000000\n",
       "mean          34.871823\n",
       "std           22.590203\n",
       "min            0.000000\n",
       "25%           25.057778\n",
       "50%           30.530556\n",
       "75%           38.690833\n",
       "max          330.265278"
      ]
     },
     "execution_count": 65,
     "metadata": {},
     "output_type": "execute_result"
    }
   ],
   "source": [
    "#replace negatives to positive, proof that all data are at least positive\n",
    "df.loc[df['TRAVEL_TIME_MINS'] < 0, 'TRAVEL_TIME_MINS'] = df.loc[df['TRAVEL_TIME_MINS'] < 0, 'TRAVEL_TIME_MINS'].abs()\n",
    "df.describe()"
   ]
  },
  {
   "cell_type": "code",
   "execution_count": 72,
   "metadata": {
    "scrolled": false
   },
   "outputs": [
    {
     "data": {
      "application/vnd.plotly.v1+json": {
       "config": {
        "plotlyServerURL": "https://plot.ly"
       },
       "data": [
        {
         "alignmentgroup": "True",
         "hovertemplate": "EMPLOYEE=%{x}<br>TRAVEL_TIME_MINS=%{y}<extra></extra>",
         "legendgroup": "",
         "marker": {
          "color": "#636efa"
         },
         "name": "",
         "notched": false,
         "offsetgroup": "",
         "orientation": "v",
         "showlegend": false,
         "type": "box",
         "x": [
          "Joe",
          "Eddie",
          "Eddie",
          "Eddie",
          "Eddie",
          "Eddie",
          "Eddie",
          "Eddie",
          "Eddie",
          "Eddie",
          "Eddie",
          "Eddie",
          "Joe",
          "Eddie",
          "Andy",
          "Eddie",
          "Eddie",
          "Eddie",
          "Eddie",
          "Andy",
          "Andy",
          "Eddie",
          "Joe",
          "Eddie",
          "Eddie",
          "Eddie",
          "Eddie",
          "Eddie",
          "Eddie",
          "Andy",
          "Eddie",
          "Harry",
          "Eddie",
          "Eddie",
          "Eddie",
          "Eddie",
          "Harry",
          "Eddie",
          "Andy",
          "Eddie",
          "Joe",
          "Harry",
          "Eddie",
          "Eddie",
          "Andy",
          "Harry",
          "Eddie",
          "Harry",
          "Harry",
          "Andy",
          "Eddie",
          "Eddie",
          "Andy",
          "Eddie",
          "Eddie",
          "Eddie",
          "Eddie",
          "Andy",
          "Eddie",
          "Andy",
          "Joe",
          "Eddie",
          "Joe",
          "Eddie",
          "Eddie",
          "Eddie",
          "Eddie",
          "Eddie",
          "Eddie",
          "Eddie",
          "Harry",
          "Harry",
          "Eddie",
          "Eddie",
          "Joe",
          "Andy",
          "Eddie",
          "Eddie",
          "Eddie",
          "Harry",
          "Eddie",
          "Andy",
          "Joe",
          "Harry",
          "Eddie",
          "Eddie",
          "Eddie",
          "Andy",
          "Eddie",
          "Eddie",
          "Eddie",
          "Eddie",
          "Harry",
          "Eddie",
          "Eddie",
          "Eddie",
          "Andy",
          "Eddie",
          "Joe",
          "Eddie",
          "Harry",
          "Eddie",
          "Eddie",
          "Eddie",
          "Andy",
          "Eddie",
          "Eddie",
          "Eddie",
          "Eddie",
          "Eddie",
          "Harry",
          "Joe",
          "Eddie",
          "Eddie",
          "Eddie",
          "Joe",
          "Eddie",
          "Joe",
          "Andy",
          "Eddie",
          "Eddie",
          "Andy",
          "Joe",
          "Harry",
          "Joe",
          "Eddie",
          "Eddie",
          "Eddie",
          "Harry",
          "Eddie",
          "Harry",
          "Eddie",
          "Joe",
          "Eddie",
          "Joe",
          "Harry",
          "Eddie",
          "Eddie",
          "Eddie",
          "Eddie",
          "Andy",
          "Joe",
          "Eddie",
          "Eddie",
          "Harry",
          "Harry",
          "Andy",
          "Andy",
          "Eddie",
          "Eddie",
          "Harry",
          "Eddie",
          "Eddie",
          "Eddie",
          "Eddie",
          "Harry",
          "Eddie",
          "Harry",
          "Eddie",
          "Eddie",
          "Eddie",
          "Eddie",
          "Eddie",
          "Eddie",
          "Harry",
          "Eddie",
          "Eddie",
          "Eddie",
          "Eddie",
          "Eddie",
          "Harry",
          "Joe",
          "Eddie",
          "Andy",
          "Andy",
          "Andy",
          "Eddie",
          "Andy",
          "Eddie",
          "Eddie",
          "Eddie",
          "Harry",
          "Eddie",
          "Joe",
          "Andy",
          "Joe",
          "Andy",
          "Eddie",
          "Eddie",
          "Eddie",
          "Harry",
          "Eddie",
          "Eddie",
          "Eddie",
          "Harry",
          "Joe",
          "Eddie",
          "Harry",
          "Eddie",
          "Andy",
          "Eddie",
          "Eddie",
          "Eddie",
          "Harry",
          "Eddie",
          "Eddie",
          "Eddie",
          "Eddie",
          "Eddie",
          "Eddie",
          "Harry",
          "Eddie",
          "Eddie",
          "Andy",
          "Eddie",
          "Andy",
          "Harry",
          "Eddie",
          "Joe",
          "Joe",
          "Andy",
          "Eddie",
          "Eddie",
          "Eddie",
          "Andy",
          "Andy",
          "Harry",
          "Eddie",
          "Joe",
          "Eddie",
          "Andy",
          "Harry",
          "Eddie",
          "Andy",
          "Eddie",
          "Harry",
          "Andy",
          "Eddie",
          "Eddie",
          "Eddie",
          "Joe",
          "Harry",
          "Eddie",
          "Andy",
          "Eddie",
          "Eddie",
          "Joe",
          "Eddie",
          "Joe",
          "Eddie",
          "Harry",
          "Eddie",
          "Eddie",
          "Eddie",
          "Joe",
          "Eddie",
          "Eddie",
          "Eddie",
          "Joe",
          "Joe",
          "Andy",
          "Andy",
          "Eddie",
          "Eddie",
          "Eddie",
          "Andy",
          "Eddie",
          "Harry",
          "Harry",
          "Andy",
          "Joe",
          "Andy",
          "Joe",
          "Joe",
          "Eddie",
          "Joe",
          "Eddie",
          "Eddie",
          "Andy",
          "Eddie",
          "Eddie",
          "Eddie",
          "Eddie",
          "Eddie",
          "Joe",
          "Harry",
          "Harry",
          "Andy",
          "Andy",
          "Joe",
          "Andy",
          "Andy",
          "Harry",
          "Andy",
          "Joe",
          "Joe",
          "Andy",
          "Harry",
          "Harry",
          "Eddie",
          "Joe",
          "Joe",
          "Joe",
          "Andy",
          "Joe",
          "Andy",
          "Eddie",
          "Eddie",
          "Eddie",
          "Harry",
          "Eddie",
          "Eddie",
          "Eddie",
          "Eddie",
          "Harry",
          "Eddie",
          "Eddie",
          "Eddie",
          "Andy",
          "Andy",
          "Andy",
          "Eddie",
          "Eddie",
          "Andy",
          "Eddie",
          "Eddie",
          "Andy",
          "Eddie",
          "Eddie",
          "Andy",
          "Harry",
          "Eddie",
          "Eddie",
          "Eddie",
          "Andy",
          "Eddie",
          "Eddie",
          "Andy",
          "Harry",
          "Eddie",
          "Eddie",
          "Eddie",
          "Joe",
          "Eddie",
          "Harry",
          "Eddie",
          "Eddie",
          "Andy",
          "Joe",
          "Eddie",
          "Joe",
          "Eddie",
          "Eddie",
          "Harry",
          "Andy",
          "Harry",
          "Harry",
          "Joe",
          "Joe",
          "Joe",
          "Joe",
          "Joe",
          "Joe",
          "Harry",
          "Eddie",
          "Eddie",
          "Eddie",
          "Harry",
          "Andy",
          "Eddie",
          "Eddie",
          "Eddie",
          "Andy",
          "Andy",
          "Eddie",
          "Joe",
          "Eddie",
          "Eddie",
          "Eddie",
          "Joe",
          "Joe",
          "Eddie",
          "Andy",
          "Eddie",
          "Eddie",
          "Joe",
          "Andy",
          "Joe",
          "Harry",
          "Eddie",
          "Harry",
          "Eddie",
          "Eddie",
          "Eddie",
          "Andy",
          "Eddie",
          "Eddie",
          "Andy",
          "Joe",
          "Eddie",
          "Eddie",
          "Eddie",
          "Andy",
          "Joe",
          "Eddie",
          "Andy",
          "Eddie",
          "Eddie",
          "Eddie",
          "Joe",
          "Eddie",
          "Eddie",
          "Andy",
          "Andy",
          "Harry",
          "Harry",
          "Harry",
          "Andy",
          "Eddie",
          "Joe",
          "Eddie",
          "Eddie",
          "Eddie",
          "Harry",
          "Eddie",
          "Eddie",
          "Eddie",
          "Eddie",
          "Harry",
          "Eddie",
          "Eddie",
          "Eddie",
          "Andy",
          "Eddie",
          "Eddie",
          "Eddie",
          "Eddie",
          "Eddie",
          "Andy",
          "Harry",
          "Eddie",
          "Eddie",
          "Harry",
          "Eddie",
          "Eddie",
          "Eddie",
          "Eddie",
          "Joe",
          "Eddie",
          "Eddie",
          "Eddie",
          "Andy",
          "Harry",
          "Eddie",
          "Joe",
          "Eddie",
          "Eddie",
          "Joe",
          "Joe",
          "Andy",
          "Joe",
          "Joe",
          "Harry",
          "Harry",
          "Andy",
          "Eddie",
          "Joe",
          "Joe",
          "Joe",
          "Eddie",
          "Andy",
          "Eddie",
          "Eddie",
          "Eddie",
          "Harry",
          "Harry",
          "Eddie",
          "Eddie",
          "Harry",
          "Eddie",
          "Joe",
          "Eddie",
          "Eddie",
          "Joe",
          "Andy",
          "Eddie",
          "Joe",
          "Joe",
          "Harry",
          "Andy",
          "Joe",
          "Eddie",
          "Eddie",
          "Andy",
          "Harry",
          "Andy",
          "Eddie",
          "Harry",
          "Andy",
          "Joe",
          "Andy",
          "Joe",
          "Harry",
          "Andy",
          "Andy",
          "Joe",
          "Joe",
          "Andy",
          "Harry",
          "Joe",
          "Joe",
          "Harry",
          "Harry",
          "Joe",
          "Joe",
          "Eddie",
          "Eddie",
          "Harry",
          "Andy",
          "Eddie",
          "Andy",
          "Eddie",
          "Eddie",
          "Eddie",
          "Eddie",
          "Joe",
          "Eddie",
          "Andy",
          "Eddie",
          "Eddie",
          "Eddie",
          "Eddie",
          "Andy",
          "Eddie",
          "Joe",
          "Eddie",
          "Eddie",
          "Andy",
          "Eddie",
          "Eddie",
          "Joe",
          "Eddie",
          "Eddie",
          "Joe",
          "Joe",
          "Andy",
          "Andy",
          "Joe",
          "Eddie",
          "Harry",
          "Joe",
          "Joe",
          "Eddie",
          "Joe",
          "Andy",
          "Eddie",
          "Eddie",
          "Andy",
          "Eddie",
          "Andy",
          "Eddie",
          "Eddie",
          "Eddie",
          "Joe",
          "Joe",
          "Eddie",
          "Eddie",
          "Eddie",
          "Eddie",
          "Harry",
          "Eddie",
          "Andy",
          "Harry",
          "Eddie",
          "Eddie",
          "Andy",
          "Andy",
          "Joe",
          "Harry",
          "Joe",
          "Andy",
          "Eddie",
          "Eddie",
          "Harry",
          "Eddie",
          "Harry",
          "Eddie",
          "Harry",
          "Eddie",
          "Eddie",
          "Andy",
          "Harry",
          "Eddie",
          "Eddie",
          "Harry",
          "Eddie",
          "Harry",
          "Joe",
          "Eddie",
          "Harry",
          "Eddie",
          "Joe",
          "Eddie",
          "Eddie",
          "Eddie",
          "Andy",
          "Eddie",
          "Eddie",
          "Joe",
          "Eddie",
          "Harry",
          "Eddie",
          "Eddie",
          "Harry",
          "Eddie",
          "Eddie",
          "Eddie",
          "Joe",
          "Harry",
          "Eddie",
          "Joe",
          "Eddie",
          "Andy",
          "Eddie",
          "Harry",
          "Harry",
          "Eddie",
          "Eddie",
          "Eddie",
          "Eddie",
          "Joe",
          "Eddie",
          "Eddie",
          "Eddie",
          "Andy",
          "Eddie",
          "Eddie",
          "Eddie",
          "Joe",
          "Eddie",
          "Eddie",
          "Eddie",
          "Andy",
          "Eddie",
          "Joe",
          "Eddie",
          "Joe",
          "Eddie",
          "Eddie",
          "Andy",
          "Harry",
          "Eddie",
          "Eddie",
          "Eddie",
          "Eddie",
          "Eddie",
          "Andy",
          "Joe",
          "Eddie",
          "Eddie",
          "Harry",
          "Joe",
          "Andy",
          "Eddie",
          "Eddie",
          "Eddie",
          "Andy",
          "Eddie",
          "Eddie",
          "Andy",
          "Joe",
          "Eddie",
          "Eddie",
          "Andy",
          "Eddie",
          "Andy",
          "Joe",
          "Eddie",
          "Eddie",
          "Eddie",
          "Andy",
          "Andy",
          "Joe",
          "Eddie",
          "Eddie",
          "Eddie",
          "Harry",
          "Eddie",
          "Joe"
         ],
         "x0": " ",
         "xaxis": "x",
         "y": [
          35.83355556,
          27.285,
          37.99944444,
          33.86361111,
          36.02638889,
          34.2925,
          32.53444444,
          55.92,
          25.81694444,
          35.18388889,
          22.84972222,
          31.42805556,
          35.79311111,
          24.34305556,
          38.21277778,
          25.33277778,
          27.1225,
          36.94944444,
          27.81472222,
          29.6575,
          34.01277778,
          26.49166667,
          29.34555556,
          27.015,
          21.615,
          25.24388889,
          51.6425,
          29.66222222,
          26.465,
          39.01527778,
          26.12083333,
          35.82,
          46.7225,
          23.27444444,
          23.96944444,
          21.61694444,
          39.88861111,
          41.24555556,
          40.32944444,
          28.39,
          31.30266667,
          39.96416667,
          26.60444444,
          28.06666667,
          48.24777778,
          42.99472222,
          29.72722222,
          39.36,
          30.55,
          25.79611111,
          25.94861111,
          22.16444444,
          49.28972222,
          25.17055556,
          28.17277778,
          23.25138889,
          23.92583333,
          33.1275,
          27.33305556,
          36.21361111,
          30.96422222,
          28.21444444,
          31.95333333,
          25.44888889,
          28.6175,
          22.675,
          30.53055556,
          23.3825,
          23.85777778,
          30.67361111,
          36.42638889,
          38.81388889,
          23.35666667,
          28.79722222,
          28.57333333,
          25.27555556,
          30.89027778,
          30.72361111,
          23.7675,
          36.99638889,
          28.6025,
          32.20111111,
          20.29911111,
          43.69194444,
          29.98888889,
          23.71111111,
          25.31583333,
          48.80638889,
          44.99805556,
          24.58083333,
          23.70777778,
          26.97,
          27.85638889,
          21.72,
          24.91916667,
          29.51555556,
          23.06138889,
          31.02,
          21.07755556,
          43.80194444,
          40.25444444,
          22.60333333,
          30.67194444,
          29.35722222,
          29.78194444,
          24.25722222,
          21.77694444,
          34.19722222,
          22.92305556,
          31.81555556,
          34.84722222,
          26.842,
          21.28861111,
          26.645,
          36.52944444,
          26.10688889,
          24.94666667,
          28.88155556,
          41.09305556,
          20.61055556,
          25.23944444,
          51.195,
          29.19844444,
          27.57361111,
          34.58266667,
          22.695,
          36.09972222,
          25.56361111,
          40.60444444,
          28.15277778,
          50.9275,
          27.0825,
          27.79466667,
          25.67527778,
          53.40088889,
          49.4725,
          24.29083333,
          24.89888889,
          23.24138889,
          28.27583333,
          36.89722222,
          33.81444444,
          23.49944444,
          25.74861111,
          50.23222222,
          37.83638889,
          32.99055556,
          39.09305556,
          32.30777778,
          24.05583333,
          37.10527778,
          53.82166667,
          27.14638889,
          21.04027778,
          20.82583333,
          30.90444444,
          27.80777778,
          27.86111111,
          20.99222222,
          23.18277778,
          22.54166667,
          24.71583333,
          24.4325,
          22.94972222,
          38.86805556,
          21.92027778,
          24.0475,
          34.45055556,
          29.315,
          38.96416667,
          39.54111111,
          57.64733333,
          19.36444444,
          23.48472222,
          45.47277778,
          37.42138889,
          35.16638889,
          29.02944444,
          26.76833333,
          21.50083333,
          36.46527778,
          37.63083333,
          21.73305556,
          26.56688889,
          37.72222222,
          21.84244444,
          36.07472222,
          22.82833333,
          44.73333333,
          24.94388889,
          24.60888889,
          26.93166667,
          25.11888889,
          27.24805556,
          26.58333333,
          27.08311111,
          32.22777778,
          28.19833333,
          22.20027778,
          33.62916667,
          23.42638889,
          23.11666667,
          22.17027778,
          33.38055556,
          25.49361111,
          22.5175,
          27.67138889,
          24.73055556,
          21.34527778,
          23.44805556,
          46.39277778,
          24.68916667,
          22.94611111,
          35.56527778,
          27.04694444,
          24.06444444,
          41.41111111,
          26.81166667,
          31.362,
          21.82066667,
          32.98055556,
          25.30361111,
          19.72111111,
          27.62472222,
          35.21361111,
          38.39861111,
          57.35305556,
          26.47166667,
          37.47133333,
          24.40472222,
          41.80444444,
          29.85888889,
          23.23972222,
          43.97194444,
          35.79972222,
          32.81444444,
          44.03027778,
          25.09888889,
          24.93055556,
          31.10694444,
          29.35311111,
          23.06416667,
          38.64111111,
          22.48166667,
          25.44583333,
          27.04166667,
          26.29822222,
          26.65472222,
          26.305999999999997,
          25.62861111,
          27.93777778,
          45.60444444,
          22.45,
          23.32444444,
          30.25,
          21.37583333,
          32.81611111,
          24.81083333,
          40.466,
          33.12577778,
          37.79638889,
          31.96916667,
          23.57277778,
          40.3,
          24.43027778,
          38.53527778,
          30.18361111,
          25.01833333,
          29.61472222,
          42.10611111,
          20.22866667,
          48.6,
          31.99866667,
          22.83422222,
          22.84138889,
          30.07666667,
          22.77111111,
          27.45166667,
          23.64027778,
          21.88666667,
          43.88777778,
          24.81722222,
          29.2875,
          28.50944444,
          27.64422222,
          32.18472222,
          30.76833333,
          34.75027778,
          40.82555556,
          28.22688889,
          33.05944444,
          24.77555556,
          36.23722222,
          26.74583333,
          25.21577778,
          23.30844444,
          39.97611111,
          35.30444444,
          22.99638889,
          30.43,
          36.484,
          40.79333333,
          35.34755556,
          35.92,
          29.64244444,
          42.63055556,
          22.71055556,
          33.87222222,
          25.90222222,
          25.34666667,
          29.89222222,
          27.58472222,
          43.68,
          28.70333333,
          52.14055556,
          39.90666667,
          23.03805556,
          28.17361111,
          36.39638889,
          44.8025,
          36.50555556,
          21.22361111,
          21.97583333,
          36.94166667,
          24.10111111,
          44.80083333,
          37.49583333,
          30.61277778,
          39.62194444,
          39.525,
          50.17027778,
          47.61027778,
          29.72722222,
          33.2925,
          29.95222222,
          22.45138889,
          24.3875,
          25.65722222,
          31.21,
          23.75111111,
          24.94583333,
          35.07166667,
          35.40111111,
          35.11527778,
          36.06472222,
          27.435,
          30.61,
          42.20388889,
          32.57733333,
          35.555,
          28.88422222,
          24.80416667,
          22.18027778,
          37.71972222,
          46.09166667,
          45.76277778,
          43.40527778,
          42.90533333,
          30.90711111,
          25.60844444,
          32.38511111,
          39.368,
          32.75377778,
          48.60611111,
          46.41527778,
          58.22111111,
          39.59388889,
          42.71111111,
          43.91,
          22.25333333,
          27.49138889,
          36.96111111,
          41.29388889,
          39.00083333,
          35.57944444,
          38.40088889,
          46.77583333,
          38.97388889,
          35.88166667,
          33.13555556,
          29.75266667,
          23.68472222,
          41.95472222,
          30.0025,
          31.93888889,
          41.39511111,
          25.23472222,
          42.85755556,
          34.63527778,
          39.785,
          31.04666667,
          23.04527778,
          42.49916667,
          38.46555556,
          44.42416667,
          31.18444444,
          37.46083333,
          6.6397222220000005,
          31.16577778,
          25.14055556,
          30.05388889,
          37.4975,
          28.05055556,
          35.30644444,
          31.74083333,
          43.64388889,
          27.81472222,
          26.41,
          28.25416667,
          37.38244444,
          25.33555556,
          32.61611111,
          27.70888889,
          38.74055556,
          28.34444444,
          39.02416667,
          43.14027778,
          40.34694444,
          28.59444444,
          33.898,
          25.09722222,
          30.71194444,
          30.27888889,
          25.98833333,
          25.90666667,
          21.80027778,
          24.84388889,
          32.58444444,
          44.96333333,
          39.56194444,
          32.09305556,
          25.85694444,
          39.805,
          30.995,
          32.86777778,
          24.02777778,
          22.93805556,
          28.99583333,
          37.82777778,
          27.02333333,
          35.505,
          24.7625,
          38.31027778,
          31.49472222,
          31.93138889,
          25.11222222,
          46.60083333,
          26.66866667,
          39.02888889,
          30.32027778,
          35.65861111,
          45.03222222,
          30.47111111,
          54.84861111,
          26.65822222,
          26.83027778,
          34.95361111,
          34.69511111,
          53.33288889,
          42.54694444,
          36.53866667,
          36.35044444,
          38.78666667,
          40.1725,
          28.45333333,
          52.47694444,
          20.90533333,
          24.02844444,
          27.86422222,
          56.17,
          36.89888889,
          55.00944444,
          27.58805556,
          45.14138889,
          42.63555556,
          29.42916667,
          24.55722222,
          23.13805556,
          53.92972222,
          29.20083333,
          28.06155556,
          39.77916667,
          31.08611111,
          36.00777778,
          33.65638889,
          33.50611111,
          24.54288889,
          32.33133333,
          51.5675,
          26.71972222,
          20.56288889,
          24.76555556,
          27.67305556,
          36.05972222,
          34.02555556,
          26.76777778,
          51.42138889,
          33.15611111,
          32.63055556,
          28.76933333,
          41.94722222,
          22.86377778,
          30.26972222,
          50.75472222,
          40.67416667,
          19.12155556,
          28.61066667,
          51.22333333,
          49.02583333,
          45.298,
          51.36,
          42.61055556,
          42.3275,
          25.87688889,
          28.94733333,
          41.795,
          30.16972222,
          36.515,
          54.87027778,
          44.805,
          33.00361111,
          28.80083333,
          27.77833333,
          44.06555556,
          33.01277778,
          22.09466667,
          31.93638889,
          39.35666667,
          23.24583333,
          46.22638889,
          31.62472222,
          24.95888889,
          33.68861111,
          40.01666667,
          24.76133333,
          27.65472222,
          34.77361111,
          37.6675,
          29.1325,
          42.90916667,
          32.25622222,
          32.96222222,
          29.86527778,
          19.62466667,
          37.36733333,
          28.70527778,
          37.9825,
          19.65133333,
          33.78416667,
          34.33555556,
          26.12311111,
          29.67822222,
          51.12083333,
          39.308,
          35.73861111,
          53.22666667,
          27.07388889,
          47.11916667,
          36.00555556,
          28.69222222,
          22.89166667,
          27.90027778,
          41.35277778,
          40.57355556,
          34.79977778,
          25.69694444,
          24.83416667,
          26.24527778,
          28.11444444,
          7.655277777999999,
          47.64333333,
          52.79055556,
          34.20972222,
          24.06583333,
          31.37833333,
          34.39055556,
          49.28972222,
          29.88888889,
          33.91888889,
          22.33155556,
          26.20333333,
          31.555,
          27.23666667,
          38.58388889,
          35.35861111,
          40.88611111,
          30.14055556,
          46.07583333,
          24.94888889,
          29.83194444,
          29.64388889,
          34.19722222,
          22.14527778,
          23.73972222,
          36.97944444,
          31.90916667,
          44.75305556,
          37.23533333,
          24.15916667,
          38.27388889,
          37.18777778,
          41.61355556,
          25.70027778,
          51.9725,
          28.14944444,
          39.84527778,
          35.73333333,
          23.54416667,
          20.46,
          24.40166667,
          35.59527778,
          25.13027778,
          23.25666667,
          39.22916667,
          21.71638889,
          29.235,
          41.55944444,
          24.73422222,
          43.03638889,
          20.01416667,
          31.55555556,
          24.47527778,
          30.90083333,
          19.56444444,
          31.33583333,
          33.795,
          19.54055556,
          20.58805556,
          25.56305556,
          22.61055556,
          22.75533333,
          24.28777778,
          21.39861111,
          21.70194444,
          35.73666667,
          20.63277778,
          22.25111111,
          27.05638889,
          25.868000000000002,
          21.30527778,
          19.45944444,
          21.37583333,
          38.18444444,
          22.59444444,
          34.51488889,
          20.5225,
          24.41866667,
          21.38583333,
          20.29361111,
          38.05388889,
          50.52944444,
          26.67972222,
          21.57027778,
          26.23333333,
          32.21277778,
          24.70416667,
          27.00805556,
          24.15444444,
          21.52694444,
          24.3925,
          40.37,
          35.98177778,
          39.75694444,
          35.58194444,
          38.84694444,
          27.96777778,
          26.01805556,
          34.23194444,
          22.27027778,
          37.26444444,
          27.588,
          24.45944444,
          23.43138889,
          31.30777778,
          30.38194444,
          44.69638889,
          37.58977778,
          20.97222222,
          23.33277778,
          25.96694444,
          37.30027778,
          28.34527778,
          18.49444444,
          30.29972222,
          21.60444444,
          20.70222222,
          34.15527778,
          28.06055556,
          28.296
         ],
         "y0": " ",
         "yaxis": "y"
        }
       ],
       "layout": {
        "boxmode": "group",
        "legend": {
         "tracegroupgap": 0
        },
        "margin": {
         "t": 60
        },
        "template": {
         "data": {
          "bar": [
           {
            "error_x": {
             "color": "#2a3f5f"
            },
            "error_y": {
             "color": "#2a3f5f"
            },
            "marker": {
             "line": {
              "color": "#E5ECF6",
              "width": 0.5
             },
             "pattern": {
              "fillmode": "overlay",
              "size": 10,
              "solidity": 0.2
             }
            },
            "type": "bar"
           }
          ],
          "barpolar": [
           {
            "marker": {
             "line": {
              "color": "#E5ECF6",
              "width": 0.5
             },
             "pattern": {
              "fillmode": "overlay",
              "size": 10,
              "solidity": 0.2
             }
            },
            "type": "barpolar"
           }
          ],
          "carpet": [
           {
            "aaxis": {
             "endlinecolor": "#2a3f5f",
             "gridcolor": "white",
             "linecolor": "white",
             "minorgridcolor": "white",
             "startlinecolor": "#2a3f5f"
            },
            "baxis": {
             "endlinecolor": "#2a3f5f",
             "gridcolor": "white",
             "linecolor": "white",
             "minorgridcolor": "white",
             "startlinecolor": "#2a3f5f"
            },
            "type": "carpet"
           }
          ],
          "choropleth": [
           {
            "colorbar": {
             "outlinewidth": 0,
             "ticks": ""
            },
            "type": "choropleth"
           }
          ],
          "contour": [
           {
            "colorbar": {
             "outlinewidth": 0,
             "ticks": ""
            },
            "colorscale": [
             [
              0,
              "#0d0887"
             ],
             [
              0.1111111111111111,
              "#46039f"
             ],
             [
              0.2222222222222222,
              "#7201a8"
             ],
             [
              0.3333333333333333,
              "#9c179e"
             ],
             [
              0.4444444444444444,
              "#bd3786"
             ],
             [
              0.5555555555555556,
              "#d8576b"
             ],
             [
              0.6666666666666666,
              "#ed7953"
             ],
             [
              0.7777777777777778,
              "#fb9f3a"
             ],
             [
              0.8888888888888888,
              "#fdca26"
             ],
             [
              1,
              "#f0f921"
             ]
            ],
            "type": "contour"
           }
          ],
          "contourcarpet": [
           {
            "colorbar": {
             "outlinewidth": 0,
             "ticks": ""
            },
            "type": "contourcarpet"
           }
          ],
          "heatmap": [
           {
            "colorbar": {
             "outlinewidth": 0,
             "ticks": ""
            },
            "colorscale": [
             [
              0,
              "#0d0887"
             ],
             [
              0.1111111111111111,
              "#46039f"
             ],
             [
              0.2222222222222222,
              "#7201a8"
             ],
             [
              0.3333333333333333,
              "#9c179e"
             ],
             [
              0.4444444444444444,
              "#bd3786"
             ],
             [
              0.5555555555555556,
              "#d8576b"
             ],
             [
              0.6666666666666666,
              "#ed7953"
             ],
             [
              0.7777777777777778,
              "#fb9f3a"
             ],
             [
              0.8888888888888888,
              "#fdca26"
             ],
             [
              1,
              "#f0f921"
             ]
            ],
            "type": "heatmap"
           }
          ],
          "heatmapgl": [
           {
            "colorbar": {
             "outlinewidth": 0,
             "ticks": ""
            },
            "colorscale": [
             [
              0,
              "#0d0887"
             ],
             [
              0.1111111111111111,
              "#46039f"
             ],
             [
              0.2222222222222222,
              "#7201a8"
             ],
             [
              0.3333333333333333,
              "#9c179e"
             ],
             [
              0.4444444444444444,
              "#bd3786"
             ],
             [
              0.5555555555555556,
              "#d8576b"
             ],
             [
              0.6666666666666666,
              "#ed7953"
             ],
             [
              0.7777777777777778,
              "#fb9f3a"
             ],
             [
              0.8888888888888888,
              "#fdca26"
             ],
             [
              1,
              "#f0f921"
             ]
            ],
            "type": "heatmapgl"
           }
          ],
          "histogram": [
           {
            "marker": {
             "pattern": {
              "fillmode": "overlay",
              "size": 10,
              "solidity": 0.2
             }
            },
            "type": "histogram"
           }
          ],
          "histogram2d": [
           {
            "colorbar": {
             "outlinewidth": 0,
             "ticks": ""
            },
            "colorscale": [
             [
              0,
              "#0d0887"
             ],
             [
              0.1111111111111111,
              "#46039f"
             ],
             [
              0.2222222222222222,
              "#7201a8"
             ],
             [
              0.3333333333333333,
              "#9c179e"
             ],
             [
              0.4444444444444444,
              "#bd3786"
             ],
             [
              0.5555555555555556,
              "#d8576b"
             ],
             [
              0.6666666666666666,
              "#ed7953"
             ],
             [
              0.7777777777777778,
              "#fb9f3a"
             ],
             [
              0.8888888888888888,
              "#fdca26"
             ],
             [
              1,
              "#f0f921"
             ]
            ],
            "type": "histogram2d"
           }
          ],
          "histogram2dcontour": [
           {
            "colorbar": {
             "outlinewidth": 0,
             "ticks": ""
            },
            "colorscale": [
             [
              0,
              "#0d0887"
             ],
             [
              0.1111111111111111,
              "#46039f"
             ],
             [
              0.2222222222222222,
              "#7201a8"
             ],
             [
              0.3333333333333333,
              "#9c179e"
             ],
             [
              0.4444444444444444,
              "#bd3786"
             ],
             [
              0.5555555555555556,
              "#d8576b"
             ],
             [
              0.6666666666666666,
              "#ed7953"
             ],
             [
              0.7777777777777778,
              "#fb9f3a"
             ],
             [
              0.8888888888888888,
              "#fdca26"
             ],
             [
              1,
              "#f0f921"
             ]
            ],
            "type": "histogram2dcontour"
           }
          ],
          "mesh3d": [
           {
            "colorbar": {
             "outlinewidth": 0,
             "ticks": ""
            },
            "type": "mesh3d"
           }
          ],
          "parcoords": [
           {
            "line": {
             "colorbar": {
              "outlinewidth": 0,
              "ticks": ""
             }
            },
            "type": "parcoords"
           }
          ],
          "pie": [
           {
            "automargin": true,
            "type": "pie"
           }
          ],
          "scatter": [
           {
            "fillpattern": {
             "fillmode": "overlay",
             "size": 10,
             "solidity": 0.2
            },
            "type": "scatter"
           }
          ],
          "scatter3d": [
           {
            "line": {
             "colorbar": {
              "outlinewidth": 0,
              "ticks": ""
             }
            },
            "marker": {
             "colorbar": {
              "outlinewidth": 0,
              "ticks": ""
             }
            },
            "type": "scatter3d"
           }
          ],
          "scattercarpet": [
           {
            "marker": {
             "colorbar": {
              "outlinewidth": 0,
              "ticks": ""
             }
            },
            "type": "scattercarpet"
           }
          ],
          "scattergeo": [
           {
            "marker": {
             "colorbar": {
              "outlinewidth": 0,
              "ticks": ""
             }
            },
            "type": "scattergeo"
           }
          ],
          "scattergl": [
           {
            "marker": {
             "colorbar": {
              "outlinewidth": 0,
              "ticks": ""
             }
            },
            "type": "scattergl"
           }
          ],
          "scattermapbox": [
           {
            "marker": {
             "colorbar": {
              "outlinewidth": 0,
              "ticks": ""
             }
            },
            "type": "scattermapbox"
           }
          ],
          "scatterpolar": [
           {
            "marker": {
             "colorbar": {
              "outlinewidth": 0,
              "ticks": ""
             }
            },
            "type": "scatterpolar"
           }
          ],
          "scatterpolargl": [
           {
            "marker": {
             "colorbar": {
              "outlinewidth": 0,
              "ticks": ""
             }
            },
            "type": "scatterpolargl"
           }
          ],
          "scatterternary": [
           {
            "marker": {
             "colorbar": {
              "outlinewidth": 0,
              "ticks": ""
             }
            },
            "type": "scatterternary"
           }
          ],
          "surface": [
           {
            "colorbar": {
             "outlinewidth": 0,
             "ticks": ""
            },
            "colorscale": [
             [
              0,
              "#0d0887"
             ],
             [
              0.1111111111111111,
              "#46039f"
             ],
             [
              0.2222222222222222,
              "#7201a8"
             ],
             [
              0.3333333333333333,
              "#9c179e"
             ],
             [
              0.4444444444444444,
              "#bd3786"
             ],
             [
              0.5555555555555556,
              "#d8576b"
             ],
             [
              0.6666666666666666,
              "#ed7953"
             ],
             [
              0.7777777777777778,
              "#fb9f3a"
             ],
             [
              0.8888888888888888,
              "#fdca26"
             ],
             [
              1,
              "#f0f921"
             ]
            ],
            "type": "surface"
           }
          ],
          "table": [
           {
            "cells": {
             "fill": {
              "color": "#EBF0F8"
             },
             "line": {
              "color": "white"
             }
            },
            "header": {
             "fill": {
              "color": "#C8D4E3"
             },
             "line": {
              "color": "white"
             }
            },
            "type": "table"
           }
          ]
         },
         "layout": {
          "annotationdefaults": {
           "arrowcolor": "#2a3f5f",
           "arrowhead": 0,
           "arrowwidth": 1
          },
          "autotypenumbers": "strict",
          "coloraxis": {
           "colorbar": {
            "outlinewidth": 0,
            "ticks": ""
           }
          },
          "colorscale": {
           "diverging": [
            [
             0,
             "#8e0152"
            ],
            [
             0.1,
             "#c51b7d"
            ],
            [
             0.2,
             "#de77ae"
            ],
            [
             0.3,
             "#f1b6da"
            ],
            [
             0.4,
             "#fde0ef"
            ],
            [
             0.5,
             "#f7f7f7"
            ],
            [
             0.6,
             "#e6f5d0"
            ],
            [
             0.7,
             "#b8e186"
            ],
            [
             0.8,
             "#7fbc41"
            ],
            [
             0.9,
             "#4d9221"
            ],
            [
             1,
             "#276419"
            ]
           ],
           "sequential": [
            [
             0,
             "#0d0887"
            ],
            [
             0.1111111111111111,
             "#46039f"
            ],
            [
             0.2222222222222222,
             "#7201a8"
            ],
            [
             0.3333333333333333,
             "#9c179e"
            ],
            [
             0.4444444444444444,
             "#bd3786"
            ],
            [
             0.5555555555555556,
             "#d8576b"
            ],
            [
             0.6666666666666666,
             "#ed7953"
            ],
            [
             0.7777777777777778,
             "#fb9f3a"
            ],
            [
             0.8888888888888888,
             "#fdca26"
            ],
            [
             1,
             "#f0f921"
            ]
           ],
           "sequentialminus": [
            [
             0,
             "#0d0887"
            ],
            [
             0.1111111111111111,
             "#46039f"
            ],
            [
             0.2222222222222222,
             "#7201a8"
            ],
            [
             0.3333333333333333,
             "#9c179e"
            ],
            [
             0.4444444444444444,
             "#bd3786"
            ],
            [
             0.5555555555555556,
             "#d8576b"
            ],
            [
             0.6666666666666666,
             "#ed7953"
            ],
            [
             0.7777777777777778,
             "#fb9f3a"
            ],
            [
             0.8888888888888888,
             "#fdca26"
            ],
            [
             1,
             "#f0f921"
            ]
           ]
          },
          "colorway": [
           "#636efa",
           "#EF553B",
           "#00cc96",
           "#ab63fa",
           "#FFA15A",
           "#19d3f3",
           "#FF6692",
           "#B6E880",
           "#FF97FF",
           "#FECB52"
          ],
          "font": {
           "color": "#2a3f5f"
          },
          "geo": {
           "bgcolor": "white",
           "lakecolor": "white",
           "landcolor": "#E5ECF6",
           "showlakes": true,
           "showland": true,
           "subunitcolor": "white"
          },
          "hoverlabel": {
           "align": "left"
          },
          "hovermode": "closest",
          "mapbox": {
           "style": "light"
          },
          "paper_bgcolor": "white",
          "plot_bgcolor": "#E5ECF6",
          "polar": {
           "angularaxis": {
            "gridcolor": "white",
            "linecolor": "white",
            "ticks": ""
           },
           "bgcolor": "#E5ECF6",
           "radialaxis": {
            "gridcolor": "white",
            "linecolor": "white",
            "ticks": ""
           }
          },
          "scene": {
           "xaxis": {
            "backgroundcolor": "#E5ECF6",
            "gridcolor": "white",
            "gridwidth": 2,
            "linecolor": "white",
            "showbackground": true,
            "ticks": "",
            "zerolinecolor": "white"
           },
           "yaxis": {
            "backgroundcolor": "#E5ECF6",
            "gridcolor": "white",
            "gridwidth": 2,
            "linecolor": "white",
            "showbackground": true,
            "ticks": "",
            "zerolinecolor": "white"
           },
           "zaxis": {
            "backgroundcolor": "#E5ECF6",
            "gridcolor": "white",
            "gridwidth": 2,
            "linecolor": "white",
            "showbackground": true,
            "ticks": "",
            "zerolinecolor": "white"
           }
          },
          "shapedefaults": {
           "line": {
            "color": "#2a3f5f"
           }
          },
          "ternary": {
           "aaxis": {
            "gridcolor": "white",
            "linecolor": "white",
            "ticks": ""
           },
           "baxis": {
            "gridcolor": "white",
            "linecolor": "white",
            "ticks": ""
           },
           "bgcolor": "#E5ECF6",
           "caxis": {
            "gridcolor": "white",
            "linecolor": "white",
            "ticks": ""
           }
          },
          "title": {
           "x": 0.05
          },
          "xaxis": {
           "automargin": true,
           "gridcolor": "white",
           "linecolor": "white",
           "ticks": "",
           "title": {
            "standoff": 15
           },
           "zerolinecolor": "white",
           "zerolinewidth": 2
          },
          "yaxis": {
           "automargin": true,
           "gridcolor": "white",
           "linecolor": "white",
           "ticks": "",
           "title": {
            "standoff": 15
           },
           "zerolinecolor": "white",
           "zerolinewidth": 2
          }
         }
        },
        "xaxis": {
         "anchor": "y",
         "domain": [
          0,
          1
         ],
         "title": {
          "text": "EMPLOYEE"
         }
        },
        "yaxis": {
         "anchor": "x",
         "domain": [
          0,
          1
         ],
         "title": {
          "text": "TRAVEL_TIME_MINS"
         }
        }
       }
      },
      "text/html": [
       "<div>                            <div id=\"4dd71560-1575-447b-b6cd-4f557ecf9975\" class=\"plotly-graph-div\" style=\"height:525px; width:100%;\"></div>            <script type=\"text/javascript\">                require([\"plotly\"], function(Plotly) {                    window.PLOTLYENV=window.PLOTLYENV || {};                                    if (document.getElementById(\"4dd71560-1575-447b-b6cd-4f557ecf9975\")) {                    Plotly.newPlot(                        \"4dd71560-1575-447b-b6cd-4f557ecf9975\",                        [{\"alignmentgroup\":\"True\",\"hovertemplate\":\"EMPLOYEE=%{x}<br>TRAVEL_TIME_MINS=%{y}<extra></extra>\",\"legendgroup\":\"\",\"marker\":{\"color\":\"#636efa\"},\"name\":\"\",\"notched\":false,\"offsetgroup\":\"\",\"orientation\":\"v\",\"showlegend\":false,\"x\":[\"Joe\",\"Eddie\",\"Eddie\",\"Eddie\",\"Eddie\",\"Eddie\",\"Eddie\",\"Eddie\",\"Eddie\",\"Eddie\",\"Eddie\",\"Eddie\",\"Joe\",\"Eddie\",\"Andy\",\"Eddie\",\"Eddie\",\"Eddie\",\"Eddie\",\"Andy\",\"Andy\",\"Eddie\",\"Joe\",\"Eddie\",\"Eddie\",\"Eddie\",\"Eddie\",\"Eddie\",\"Eddie\",\"Andy\",\"Eddie\",\"Harry\",\"Eddie\",\"Eddie\",\"Eddie\",\"Eddie\",\"Harry\",\"Eddie\",\"Andy\",\"Eddie\",\"Joe\",\"Harry\",\"Eddie\",\"Eddie\",\"Andy\",\"Harry\",\"Eddie\",\"Harry\",\"Harry\",\"Andy\",\"Eddie\",\"Eddie\",\"Andy\",\"Eddie\",\"Eddie\",\"Eddie\",\"Eddie\",\"Andy\",\"Eddie\",\"Andy\",\"Joe\",\"Eddie\",\"Joe\",\"Eddie\",\"Eddie\",\"Eddie\",\"Eddie\",\"Eddie\",\"Eddie\",\"Eddie\",\"Harry\",\"Harry\",\"Eddie\",\"Eddie\",\"Joe\",\"Andy\",\"Eddie\",\"Eddie\",\"Eddie\",\"Harry\",\"Eddie\",\"Andy\",\"Joe\",\"Harry\",\"Eddie\",\"Eddie\",\"Eddie\",\"Andy\",\"Eddie\",\"Eddie\",\"Eddie\",\"Eddie\",\"Harry\",\"Eddie\",\"Eddie\",\"Eddie\",\"Andy\",\"Eddie\",\"Joe\",\"Eddie\",\"Harry\",\"Eddie\",\"Eddie\",\"Eddie\",\"Andy\",\"Eddie\",\"Eddie\",\"Eddie\",\"Eddie\",\"Eddie\",\"Harry\",\"Joe\",\"Eddie\",\"Eddie\",\"Eddie\",\"Joe\",\"Eddie\",\"Joe\",\"Andy\",\"Eddie\",\"Eddie\",\"Andy\",\"Joe\",\"Harry\",\"Joe\",\"Eddie\",\"Eddie\",\"Eddie\",\"Harry\",\"Eddie\",\"Harry\",\"Eddie\",\"Joe\",\"Eddie\",\"Joe\",\"Harry\",\"Eddie\",\"Eddie\",\"Eddie\",\"Eddie\",\"Andy\",\"Joe\",\"Eddie\",\"Eddie\",\"Harry\",\"Harry\",\"Andy\",\"Andy\",\"Eddie\",\"Eddie\",\"Harry\",\"Eddie\",\"Eddie\",\"Eddie\",\"Eddie\",\"Harry\",\"Eddie\",\"Harry\",\"Eddie\",\"Eddie\",\"Eddie\",\"Eddie\",\"Eddie\",\"Eddie\",\"Harry\",\"Eddie\",\"Eddie\",\"Eddie\",\"Eddie\",\"Eddie\",\"Harry\",\"Joe\",\"Eddie\",\"Andy\",\"Andy\",\"Andy\",\"Eddie\",\"Andy\",\"Eddie\",\"Eddie\",\"Eddie\",\"Harry\",\"Eddie\",\"Joe\",\"Andy\",\"Joe\",\"Andy\",\"Eddie\",\"Eddie\",\"Eddie\",\"Harry\",\"Eddie\",\"Eddie\",\"Eddie\",\"Harry\",\"Joe\",\"Eddie\",\"Harry\",\"Eddie\",\"Andy\",\"Eddie\",\"Eddie\",\"Eddie\",\"Harry\",\"Eddie\",\"Eddie\",\"Eddie\",\"Eddie\",\"Eddie\",\"Eddie\",\"Harry\",\"Eddie\",\"Eddie\",\"Andy\",\"Eddie\",\"Andy\",\"Harry\",\"Eddie\",\"Joe\",\"Joe\",\"Andy\",\"Eddie\",\"Eddie\",\"Eddie\",\"Andy\",\"Andy\",\"Harry\",\"Eddie\",\"Joe\",\"Eddie\",\"Andy\",\"Harry\",\"Eddie\",\"Andy\",\"Eddie\",\"Harry\",\"Andy\",\"Eddie\",\"Eddie\",\"Eddie\",\"Joe\",\"Harry\",\"Eddie\",\"Andy\",\"Eddie\",\"Eddie\",\"Joe\",\"Eddie\",\"Joe\",\"Eddie\",\"Harry\",\"Eddie\",\"Eddie\",\"Eddie\",\"Joe\",\"Eddie\",\"Eddie\",\"Eddie\",\"Joe\",\"Joe\",\"Andy\",\"Andy\",\"Eddie\",\"Eddie\",\"Eddie\",\"Andy\",\"Eddie\",\"Harry\",\"Harry\",\"Andy\",\"Joe\",\"Andy\",\"Joe\",\"Joe\",\"Eddie\",\"Joe\",\"Eddie\",\"Eddie\",\"Andy\",\"Eddie\",\"Eddie\",\"Eddie\",\"Eddie\",\"Eddie\",\"Joe\",\"Harry\",\"Harry\",\"Andy\",\"Andy\",\"Joe\",\"Andy\",\"Andy\",\"Harry\",\"Andy\",\"Joe\",\"Joe\",\"Andy\",\"Harry\",\"Harry\",\"Eddie\",\"Joe\",\"Joe\",\"Joe\",\"Andy\",\"Joe\",\"Andy\",\"Eddie\",\"Eddie\",\"Eddie\",\"Harry\",\"Eddie\",\"Eddie\",\"Eddie\",\"Eddie\",\"Harry\",\"Eddie\",\"Eddie\",\"Eddie\",\"Andy\",\"Andy\",\"Andy\",\"Eddie\",\"Eddie\",\"Andy\",\"Eddie\",\"Eddie\",\"Andy\",\"Eddie\",\"Eddie\",\"Andy\",\"Harry\",\"Eddie\",\"Eddie\",\"Eddie\",\"Andy\",\"Eddie\",\"Eddie\",\"Andy\",\"Harry\",\"Eddie\",\"Eddie\",\"Eddie\",\"Joe\",\"Eddie\",\"Harry\",\"Eddie\",\"Eddie\",\"Andy\",\"Joe\",\"Eddie\",\"Joe\",\"Eddie\",\"Eddie\",\"Harry\",\"Andy\",\"Harry\",\"Harry\",\"Joe\",\"Joe\",\"Joe\",\"Joe\",\"Joe\",\"Joe\",\"Harry\",\"Eddie\",\"Eddie\",\"Eddie\",\"Harry\",\"Andy\",\"Eddie\",\"Eddie\",\"Eddie\",\"Andy\",\"Andy\",\"Eddie\",\"Joe\",\"Eddie\",\"Eddie\",\"Eddie\",\"Joe\",\"Joe\",\"Eddie\",\"Andy\",\"Eddie\",\"Eddie\",\"Joe\",\"Andy\",\"Joe\",\"Harry\",\"Eddie\",\"Harry\",\"Eddie\",\"Eddie\",\"Eddie\",\"Andy\",\"Eddie\",\"Eddie\",\"Andy\",\"Joe\",\"Eddie\",\"Eddie\",\"Eddie\",\"Andy\",\"Joe\",\"Eddie\",\"Andy\",\"Eddie\",\"Eddie\",\"Eddie\",\"Joe\",\"Eddie\",\"Eddie\",\"Andy\",\"Andy\",\"Harry\",\"Harry\",\"Harry\",\"Andy\",\"Eddie\",\"Joe\",\"Eddie\",\"Eddie\",\"Eddie\",\"Harry\",\"Eddie\",\"Eddie\",\"Eddie\",\"Eddie\",\"Harry\",\"Eddie\",\"Eddie\",\"Eddie\",\"Andy\",\"Eddie\",\"Eddie\",\"Eddie\",\"Eddie\",\"Eddie\",\"Andy\",\"Harry\",\"Eddie\",\"Eddie\",\"Harry\",\"Eddie\",\"Eddie\",\"Eddie\",\"Eddie\",\"Joe\",\"Eddie\",\"Eddie\",\"Eddie\",\"Andy\",\"Harry\",\"Eddie\",\"Joe\",\"Eddie\",\"Eddie\",\"Joe\",\"Joe\",\"Andy\",\"Joe\",\"Joe\",\"Harry\",\"Harry\",\"Andy\",\"Eddie\",\"Joe\",\"Joe\",\"Joe\",\"Eddie\",\"Andy\",\"Eddie\",\"Eddie\",\"Eddie\",\"Harry\",\"Harry\",\"Eddie\",\"Eddie\",\"Harry\",\"Eddie\",\"Joe\",\"Eddie\",\"Eddie\",\"Joe\",\"Andy\",\"Eddie\",\"Joe\",\"Joe\",\"Harry\",\"Andy\",\"Joe\",\"Eddie\",\"Eddie\",\"Andy\",\"Harry\",\"Andy\",\"Eddie\",\"Harry\",\"Andy\",\"Joe\",\"Andy\",\"Joe\",\"Harry\",\"Andy\",\"Andy\",\"Joe\",\"Joe\",\"Andy\",\"Harry\",\"Joe\",\"Joe\",\"Harry\",\"Harry\",\"Joe\",\"Joe\",\"Eddie\",\"Eddie\",\"Harry\",\"Andy\",\"Eddie\",\"Andy\",\"Eddie\",\"Eddie\",\"Eddie\",\"Eddie\",\"Joe\",\"Eddie\",\"Andy\",\"Eddie\",\"Eddie\",\"Eddie\",\"Eddie\",\"Andy\",\"Eddie\",\"Joe\",\"Eddie\",\"Eddie\",\"Andy\",\"Eddie\",\"Eddie\",\"Joe\",\"Eddie\",\"Eddie\",\"Joe\",\"Joe\",\"Andy\",\"Andy\",\"Joe\",\"Eddie\",\"Harry\",\"Joe\",\"Joe\",\"Eddie\",\"Joe\",\"Andy\",\"Eddie\",\"Eddie\",\"Andy\",\"Eddie\",\"Andy\",\"Eddie\",\"Eddie\",\"Eddie\",\"Joe\",\"Joe\",\"Eddie\",\"Eddie\",\"Eddie\",\"Eddie\",\"Harry\",\"Eddie\",\"Andy\",\"Harry\",\"Eddie\",\"Eddie\",\"Andy\",\"Andy\",\"Joe\",\"Harry\",\"Joe\",\"Andy\",\"Eddie\",\"Eddie\",\"Harry\",\"Eddie\",\"Harry\",\"Eddie\",\"Harry\",\"Eddie\",\"Eddie\",\"Andy\",\"Harry\",\"Eddie\",\"Eddie\",\"Harry\",\"Eddie\",\"Harry\",\"Joe\",\"Eddie\",\"Harry\",\"Eddie\",\"Joe\",\"Eddie\",\"Eddie\",\"Eddie\",\"Andy\",\"Eddie\",\"Eddie\",\"Joe\",\"Eddie\",\"Harry\",\"Eddie\",\"Eddie\",\"Harry\",\"Eddie\",\"Eddie\",\"Eddie\",\"Joe\",\"Harry\",\"Eddie\",\"Joe\",\"Eddie\",\"Andy\",\"Eddie\",\"Harry\",\"Harry\",\"Eddie\",\"Eddie\",\"Eddie\",\"Eddie\",\"Joe\",\"Eddie\",\"Eddie\",\"Eddie\",\"Andy\",\"Eddie\",\"Eddie\",\"Eddie\",\"Joe\",\"Eddie\",\"Eddie\",\"Eddie\",\"Andy\",\"Eddie\",\"Joe\",\"Eddie\",\"Joe\",\"Eddie\",\"Eddie\",\"Andy\",\"Harry\",\"Eddie\",\"Eddie\",\"Eddie\",\"Eddie\",\"Eddie\",\"Andy\",\"Joe\",\"Eddie\",\"Eddie\",\"Harry\",\"Joe\",\"Andy\",\"Eddie\",\"Eddie\",\"Eddie\",\"Andy\",\"Eddie\",\"Eddie\",\"Andy\",\"Joe\",\"Eddie\",\"Eddie\",\"Andy\",\"Eddie\",\"Andy\",\"Joe\",\"Eddie\",\"Eddie\",\"Eddie\",\"Andy\",\"Andy\",\"Joe\",\"Eddie\",\"Eddie\",\"Eddie\",\"Harry\",\"Eddie\",\"Joe\"],\"x0\":\" \",\"xaxis\":\"x\",\"y\":[35.83355556,27.285,37.99944444,33.86361111,36.02638889,34.2925,32.53444444,55.92,25.81694444,35.18388889,22.84972222,31.42805556,35.79311111,24.34305556,38.21277778,25.33277778,27.1225,36.94944444,27.81472222,29.6575,34.01277778,26.49166667,29.34555556,27.015,21.615,25.24388889,51.6425,29.66222222,26.465,39.01527778,26.12083333,35.82,46.7225,23.27444444,23.96944444,21.61694444,39.88861111,41.24555556,40.32944444,28.39,31.30266667,39.96416667,26.60444444,28.06666667,48.24777778,42.99472222,29.72722222,39.36,30.55,25.79611111,25.94861111,22.16444444,49.28972222,25.17055556,28.17277778,23.25138889,23.92583333,33.1275,27.33305556,36.21361111,30.96422222,28.21444444,31.95333333,25.44888889,28.6175,22.675,30.53055556,23.3825,23.85777778,30.67361111,36.42638889,38.81388889,23.35666667,28.79722222,28.57333333,25.27555556,30.89027778,30.72361111,23.7675,36.99638889,28.6025,32.20111111,20.29911111,43.69194444,29.98888889,23.71111111,25.31583333,48.80638889,44.99805556,24.58083333,23.70777778,26.97,27.85638889,21.72,24.91916667,29.51555556,23.06138889,31.02,21.07755556,43.80194444,40.25444444,22.60333333,30.67194444,29.35722222,29.78194444,24.25722222,21.77694444,34.19722222,22.92305556,31.81555556,34.84722222,26.842,21.28861111,26.645,36.52944444,26.10688889,24.94666667,28.88155556,41.09305556,20.61055556,25.23944444,51.195,29.19844444,27.57361111,34.58266667,22.695,36.09972222,25.56361111,40.60444444,28.15277778,50.9275,27.0825,27.79466667,25.67527778,53.40088889,49.4725,24.29083333,24.89888889,23.24138889,28.27583333,36.89722222,33.81444444,23.49944444,25.74861111,50.23222222,37.83638889,32.99055556,39.09305556,32.30777778,24.05583333,37.10527778,53.82166667,27.14638889,21.04027778,20.82583333,30.90444444,27.80777778,27.86111111,20.99222222,23.18277778,22.54166667,24.71583333,24.4325,22.94972222,38.86805556,21.92027778,24.0475,34.45055556,29.315,38.96416667,39.54111111,57.64733333,19.36444444,23.48472222,45.47277778,37.42138889,35.16638889,29.02944444,26.76833333,21.50083333,36.46527778,37.63083333,21.73305556,26.56688889,37.72222222,21.84244444,36.07472222,22.82833333,44.73333333,24.94388889,24.60888889,26.93166667,25.11888889,27.24805556,26.58333333,27.08311111,32.22777778,28.19833333,22.20027778,33.62916667,23.42638889,23.11666667,22.17027778,33.38055556,25.49361111,22.5175,27.67138889,24.73055556,21.34527778,23.44805556,46.39277778,24.68916667,22.94611111,35.56527778,27.04694444,24.06444444,41.41111111,26.81166667,31.362,21.82066667,32.98055556,25.30361111,19.72111111,27.62472222,35.21361111,38.39861111,57.35305556,26.47166667,37.47133333,24.40472222,41.80444444,29.85888889,23.23972222,43.97194444,35.79972222,32.81444444,44.03027778,25.09888889,24.93055556,31.10694444,29.35311111,23.06416667,38.64111111,22.48166667,25.44583333,27.04166667,26.29822222,26.65472222,26.305999999999997,25.62861111,27.93777778,45.60444444,22.45,23.32444444,30.25,21.37583333,32.81611111,24.81083333,40.466,33.12577778,37.79638889,31.96916667,23.57277778,40.3,24.43027778,38.53527778,30.18361111,25.01833333,29.61472222,42.10611111,20.22866667,48.6,31.99866667,22.83422222,22.84138889,30.07666667,22.77111111,27.45166667,23.64027778,21.88666667,43.88777778,24.81722222,29.2875,28.50944444,27.64422222,32.18472222,30.76833333,34.75027778,40.82555556,28.22688889,33.05944444,24.77555556,36.23722222,26.74583333,25.21577778,23.30844444,39.97611111,35.30444444,22.99638889,30.43,36.484,40.79333333,35.34755556,35.92,29.64244444,42.63055556,22.71055556,33.87222222,25.90222222,25.34666667,29.89222222,27.58472222,43.68,28.70333333,52.14055556,39.90666667,23.03805556,28.17361111,36.39638889,44.8025,36.50555556,21.22361111,21.97583333,36.94166667,24.10111111,44.80083333,37.49583333,30.61277778,39.62194444,39.525,50.17027778,47.61027778,29.72722222,33.2925,29.95222222,22.45138889,24.3875,25.65722222,31.21,23.75111111,24.94583333,35.07166667,35.40111111,35.11527778,36.06472222,27.435,30.61,42.20388889,32.57733333,35.555,28.88422222,24.80416667,22.18027778,37.71972222,46.09166667,45.76277778,43.40527778,42.90533333,30.90711111,25.60844444,32.38511111,39.368,32.75377778,48.60611111,46.41527778,58.22111111,39.59388889,42.71111111,43.91,22.25333333,27.49138889,36.96111111,41.29388889,39.00083333,35.57944444,38.40088889,46.77583333,38.97388889,35.88166667,33.13555556,29.75266667,23.68472222,41.95472222,30.0025,31.93888889,41.39511111,25.23472222,42.85755556,34.63527778,39.785,31.04666667,23.04527778,42.49916667,38.46555556,44.42416667,31.18444444,37.46083333,6.6397222220000005,31.16577778,25.14055556,30.05388889,37.4975,28.05055556,35.30644444,31.74083333,43.64388889,27.81472222,26.41,28.25416667,37.38244444,25.33555556,32.61611111,27.70888889,38.74055556,28.34444444,39.02416667,43.14027778,40.34694444,28.59444444,33.898,25.09722222,30.71194444,30.27888889,25.98833333,25.90666667,21.80027778,24.84388889,32.58444444,44.96333333,39.56194444,32.09305556,25.85694444,39.805,30.995,32.86777778,24.02777778,22.93805556,28.99583333,37.82777778,27.02333333,35.505,24.7625,38.31027778,31.49472222,31.93138889,25.11222222,46.60083333,26.66866667,39.02888889,30.32027778,35.65861111,45.03222222,30.47111111,54.84861111,26.65822222,26.83027778,34.95361111,34.69511111,53.33288889,42.54694444,36.53866667,36.35044444,38.78666667,40.1725,28.45333333,52.47694444,20.90533333,24.02844444,27.86422222,56.17,36.89888889,55.00944444,27.58805556,45.14138889,42.63555556,29.42916667,24.55722222,23.13805556,53.92972222,29.20083333,28.06155556,39.77916667,31.08611111,36.00777778,33.65638889,33.50611111,24.54288889,32.33133333,51.5675,26.71972222,20.56288889,24.76555556,27.67305556,36.05972222,34.02555556,26.76777778,51.42138889,33.15611111,32.63055556,28.76933333,41.94722222,22.86377778,30.26972222,50.75472222,40.67416667,19.12155556,28.61066667,51.22333333,49.02583333,45.298,51.36,42.61055556,42.3275,25.87688889,28.94733333,41.795,30.16972222,36.515,54.87027778,44.805,33.00361111,28.80083333,27.77833333,44.06555556,33.01277778,22.09466667,31.93638889,39.35666667,23.24583333,46.22638889,31.62472222,24.95888889,33.68861111,40.01666667,24.76133333,27.65472222,34.77361111,37.6675,29.1325,42.90916667,32.25622222,32.96222222,29.86527778,19.62466667,37.36733333,28.70527778,37.9825,19.65133333,33.78416667,34.33555556,26.12311111,29.67822222,51.12083333,39.308,35.73861111,53.22666667,27.07388889,47.11916667,36.00555556,28.69222222,22.89166667,27.90027778,41.35277778,40.57355556,34.79977778,25.69694444,24.83416667,26.24527778,28.11444444,7.655277777999999,47.64333333,52.79055556,34.20972222,24.06583333,31.37833333,34.39055556,49.28972222,29.88888889,33.91888889,22.33155556,26.20333333,31.555,27.23666667,38.58388889,35.35861111,40.88611111,30.14055556,46.07583333,24.94888889,29.83194444,29.64388889,34.19722222,22.14527778,23.73972222,36.97944444,31.90916667,44.75305556,37.23533333,24.15916667,38.27388889,37.18777778,41.61355556,25.70027778,51.9725,28.14944444,39.84527778,35.73333333,23.54416667,20.46,24.40166667,35.59527778,25.13027778,23.25666667,39.22916667,21.71638889,29.235,41.55944444,24.73422222,43.03638889,20.01416667,31.55555556,24.47527778,30.90083333,19.56444444,31.33583333,33.795,19.54055556,20.58805556,25.56305556,22.61055556,22.75533333,24.28777778,21.39861111,21.70194444,35.73666667,20.63277778,22.25111111,27.05638889,25.868000000000002,21.30527778,19.45944444,21.37583333,38.18444444,22.59444444,34.51488889,20.5225,24.41866667,21.38583333,20.29361111,38.05388889,50.52944444,26.67972222,21.57027778,26.23333333,32.21277778,24.70416667,27.00805556,24.15444444,21.52694444,24.3925,40.37,35.98177778,39.75694444,35.58194444,38.84694444,27.96777778,26.01805556,34.23194444,22.27027778,37.26444444,27.588,24.45944444,23.43138889,31.30777778,30.38194444,44.69638889,37.58977778,20.97222222,23.33277778,25.96694444,37.30027778,28.34527778,18.49444444,30.29972222,21.60444444,20.70222222,34.15527778,28.06055556,28.296],\"y0\":\" \",\"yaxis\":\"y\",\"type\":\"box\"}],                        {\"template\":{\"data\":{\"histogram2dcontour\":[{\"type\":\"histogram2dcontour\",\"colorbar\":{\"outlinewidth\":0,\"ticks\":\"\"},\"colorscale\":[[0.0,\"#0d0887\"],[0.1111111111111111,\"#46039f\"],[0.2222222222222222,\"#7201a8\"],[0.3333333333333333,\"#9c179e\"],[0.4444444444444444,\"#bd3786\"],[0.5555555555555556,\"#d8576b\"],[0.6666666666666666,\"#ed7953\"],[0.7777777777777778,\"#fb9f3a\"],[0.8888888888888888,\"#fdca26\"],[1.0,\"#f0f921\"]]}],\"choropleth\":[{\"type\":\"choropleth\",\"colorbar\":{\"outlinewidth\":0,\"ticks\":\"\"}}],\"histogram2d\":[{\"type\":\"histogram2d\",\"colorbar\":{\"outlinewidth\":0,\"ticks\":\"\"},\"colorscale\":[[0.0,\"#0d0887\"],[0.1111111111111111,\"#46039f\"],[0.2222222222222222,\"#7201a8\"],[0.3333333333333333,\"#9c179e\"],[0.4444444444444444,\"#bd3786\"],[0.5555555555555556,\"#d8576b\"],[0.6666666666666666,\"#ed7953\"],[0.7777777777777778,\"#fb9f3a\"],[0.8888888888888888,\"#fdca26\"],[1.0,\"#f0f921\"]]}],\"heatmap\":[{\"type\":\"heatmap\",\"colorbar\":{\"outlinewidth\":0,\"ticks\":\"\"},\"colorscale\":[[0.0,\"#0d0887\"],[0.1111111111111111,\"#46039f\"],[0.2222222222222222,\"#7201a8\"],[0.3333333333333333,\"#9c179e\"],[0.4444444444444444,\"#bd3786\"],[0.5555555555555556,\"#d8576b\"],[0.6666666666666666,\"#ed7953\"],[0.7777777777777778,\"#fb9f3a\"],[0.8888888888888888,\"#fdca26\"],[1.0,\"#f0f921\"]]}],\"heatmapgl\":[{\"type\":\"heatmapgl\",\"colorbar\":{\"outlinewidth\":0,\"ticks\":\"\"},\"colorscale\":[[0.0,\"#0d0887\"],[0.1111111111111111,\"#46039f\"],[0.2222222222222222,\"#7201a8\"],[0.3333333333333333,\"#9c179e\"],[0.4444444444444444,\"#bd3786\"],[0.5555555555555556,\"#d8576b\"],[0.6666666666666666,\"#ed7953\"],[0.7777777777777778,\"#fb9f3a\"],[0.8888888888888888,\"#fdca26\"],[1.0,\"#f0f921\"]]}],\"contourcarpet\":[{\"type\":\"contourcarpet\",\"colorbar\":{\"outlinewidth\":0,\"ticks\":\"\"}}],\"contour\":[{\"type\":\"contour\",\"colorbar\":{\"outlinewidth\":0,\"ticks\":\"\"},\"colorscale\":[[0.0,\"#0d0887\"],[0.1111111111111111,\"#46039f\"],[0.2222222222222222,\"#7201a8\"],[0.3333333333333333,\"#9c179e\"],[0.4444444444444444,\"#bd3786\"],[0.5555555555555556,\"#d8576b\"],[0.6666666666666666,\"#ed7953\"],[0.7777777777777778,\"#fb9f3a\"],[0.8888888888888888,\"#fdca26\"],[1.0,\"#f0f921\"]]}],\"surface\":[{\"type\":\"surface\",\"colorbar\":{\"outlinewidth\":0,\"ticks\":\"\"},\"colorscale\":[[0.0,\"#0d0887\"],[0.1111111111111111,\"#46039f\"],[0.2222222222222222,\"#7201a8\"],[0.3333333333333333,\"#9c179e\"],[0.4444444444444444,\"#bd3786\"],[0.5555555555555556,\"#d8576b\"],[0.6666666666666666,\"#ed7953\"],[0.7777777777777778,\"#fb9f3a\"],[0.8888888888888888,\"#fdca26\"],[1.0,\"#f0f921\"]]}],\"mesh3d\":[{\"type\":\"mesh3d\",\"colorbar\":{\"outlinewidth\":0,\"ticks\":\"\"}}],\"scatter\":[{\"fillpattern\":{\"fillmode\":\"overlay\",\"size\":10,\"solidity\":0.2},\"type\":\"scatter\"}],\"parcoords\":[{\"type\":\"parcoords\",\"line\":{\"colorbar\":{\"outlinewidth\":0,\"ticks\":\"\"}}}],\"scatterpolargl\":[{\"type\":\"scatterpolargl\",\"marker\":{\"colorbar\":{\"outlinewidth\":0,\"ticks\":\"\"}}}],\"bar\":[{\"error_x\":{\"color\":\"#2a3f5f\"},\"error_y\":{\"color\":\"#2a3f5f\"},\"marker\":{\"line\":{\"color\":\"#E5ECF6\",\"width\":0.5},\"pattern\":{\"fillmode\":\"overlay\",\"size\":10,\"solidity\":0.2}},\"type\":\"bar\"}],\"scattergeo\":[{\"type\":\"scattergeo\",\"marker\":{\"colorbar\":{\"outlinewidth\":0,\"ticks\":\"\"}}}],\"scatterpolar\":[{\"type\":\"scatterpolar\",\"marker\":{\"colorbar\":{\"outlinewidth\":0,\"ticks\":\"\"}}}],\"histogram\":[{\"marker\":{\"pattern\":{\"fillmode\":\"overlay\",\"size\":10,\"solidity\":0.2}},\"type\":\"histogram\"}],\"scattergl\":[{\"type\":\"scattergl\",\"marker\":{\"colorbar\":{\"outlinewidth\":0,\"ticks\":\"\"}}}],\"scatter3d\":[{\"type\":\"scatter3d\",\"line\":{\"colorbar\":{\"outlinewidth\":0,\"ticks\":\"\"}},\"marker\":{\"colorbar\":{\"outlinewidth\":0,\"ticks\":\"\"}}}],\"scattermapbox\":[{\"type\":\"scattermapbox\",\"marker\":{\"colorbar\":{\"outlinewidth\":0,\"ticks\":\"\"}}}],\"scatterternary\":[{\"type\":\"scatterternary\",\"marker\":{\"colorbar\":{\"outlinewidth\":0,\"ticks\":\"\"}}}],\"scattercarpet\":[{\"type\":\"scattercarpet\",\"marker\":{\"colorbar\":{\"outlinewidth\":0,\"ticks\":\"\"}}}],\"carpet\":[{\"aaxis\":{\"endlinecolor\":\"#2a3f5f\",\"gridcolor\":\"white\",\"linecolor\":\"white\",\"minorgridcolor\":\"white\",\"startlinecolor\":\"#2a3f5f\"},\"baxis\":{\"endlinecolor\":\"#2a3f5f\",\"gridcolor\":\"white\",\"linecolor\":\"white\",\"minorgridcolor\":\"white\",\"startlinecolor\":\"#2a3f5f\"},\"type\":\"carpet\"}],\"table\":[{\"cells\":{\"fill\":{\"color\":\"#EBF0F8\"},\"line\":{\"color\":\"white\"}},\"header\":{\"fill\":{\"color\":\"#C8D4E3\"},\"line\":{\"color\":\"white\"}},\"type\":\"table\"}],\"barpolar\":[{\"marker\":{\"line\":{\"color\":\"#E5ECF6\",\"width\":0.5},\"pattern\":{\"fillmode\":\"overlay\",\"size\":10,\"solidity\":0.2}},\"type\":\"barpolar\"}],\"pie\":[{\"automargin\":true,\"type\":\"pie\"}]},\"layout\":{\"autotypenumbers\":\"strict\",\"colorway\":[\"#636efa\",\"#EF553B\",\"#00cc96\",\"#ab63fa\",\"#FFA15A\",\"#19d3f3\",\"#FF6692\",\"#B6E880\",\"#FF97FF\",\"#FECB52\"],\"font\":{\"color\":\"#2a3f5f\"},\"hovermode\":\"closest\",\"hoverlabel\":{\"align\":\"left\"},\"paper_bgcolor\":\"white\",\"plot_bgcolor\":\"#E5ECF6\",\"polar\":{\"bgcolor\":\"#E5ECF6\",\"angularaxis\":{\"gridcolor\":\"white\",\"linecolor\":\"white\",\"ticks\":\"\"},\"radialaxis\":{\"gridcolor\":\"white\",\"linecolor\":\"white\",\"ticks\":\"\"}},\"ternary\":{\"bgcolor\":\"#E5ECF6\",\"aaxis\":{\"gridcolor\":\"white\",\"linecolor\":\"white\",\"ticks\":\"\"},\"baxis\":{\"gridcolor\":\"white\",\"linecolor\":\"white\",\"ticks\":\"\"},\"caxis\":{\"gridcolor\":\"white\",\"linecolor\":\"white\",\"ticks\":\"\"}},\"coloraxis\":{\"colorbar\":{\"outlinewidth\":0,\"ticks\":\"\"}},\"colorscale\":{\"sequential\":[[0.0,\"#0d0887\"],[0.1111111111111111,\"#46039f\"],[0.2222222222222222,\"#7201a8\"],[0.3333333333333333,\"#9c179e\"],[0.4444444444444444,\"#bd3786\"],[0.5555555555555556,\"#d8576b\"],[0.6666666666666666,\"#ed7953\"],[0.7777777777777778,\"#fb9f3a\"],[0.8888888888888888,\"#fdca26\"],[1.0,\"#f0f921\"]],\"sequentialminus\":[[0.0,\"#0d0887\"],[0.1111111111111111,\"#46039f\"],[0.2222222222222222,\"#7201a8\"],[0.3333333333333333,\"#9c179e\"],[0.4444444444444444,\"#bd3786\"],[0.5555555555555556,\"#d8576b\"],[0.6666666666666666,\"#ed7953\"],[0.7777777777777778,\"#fb9f3a\"],[0.8888888888888888,\"#fdca26\"],[1.0,\"#f0f921\"]],\"diverging\":[[0,\"#8e0152\"],[0.1,\"#c51b7d\"],[0.2,\"#de77ae\"],[0.3,\"#f1b6da\"],[0.4,\"#fde0ef\"],[0.5,\"#f7f7f7\"],[0.6,\"#e6f5d0\"],[0.7,\"#b8e186\"],[0.8,\"#7fbc41\"],[0.9,\"#4d9221\"],[1,\"#276419\"]]},\"xaxis\":{\"gridcolor\":\"white\",\"linecolor\":\"white\",\"ticks\":\"\",\"title\":{\"standoff\":15},\"zerolinecolor\":\"white\",\"automargin\":true,\"zerolinewidth\":2},\"yaxis\":{\"gridcolor\":\"white\",\"linecolor\":\"white\",\"ticks\":\"\",\"title\":{\"standoff\":15},\"zerolinecolor\":\"white\",\"automargin\":true,\"zerolinewidth\":2},\"scene\":{\"xaxis\":{\"backgroundcolor\":\"#E5ECF6\",\"gridcolor\":\"white\",\"linecolor\":\"white\",\"showbackground\":true,\"ticks\":\"\",\"zerolinecolor\":\"white\",\"gridwidth\":2},\"yaxis\":{\"backgroundcolor\":\"#E5ECF6\",\"gridcolor\":\"white\",\"linecolor\":\"white\",\"showbackground\":true,\"ticks\":\"\",\"zerolinecolor\":\"white\",\"gridwidth\":2},\"zaxis\":{\"backgroundcolor\":\"#E5ECF6\",\"gridcolor\":\"white\",\"linecolor\":\"white\",\"showbackground\":true,\"ticks\":\"\",\"zerolinecolor\":\"white\",\"gridwidth\":2}},\"shapedefaults\":{\"line\":{\"color\":\"#2a3f5f\"}},\"annotationdefaults\":{\"arrowcolor\":\"#2a3f5f\",\"arrowhead\":0,\"arrowwidth\":1},\"geo\":{\"bgcolor\":\"white\",\"landcolor\":\"#E5ECF6\",\"subunitcolor\":\"white\",\"showland\":true,\"showlakes\":true,\"lakecolor\":\"white\"},\"title\":{\"x\":0.05},\"mapbox\":{\"style\":\"light\"}}},\"xaxis\":{\"anchor\":\"y\",\"domain\":[0.0,1.0],\"title\":{\"text\":\"EMPLOYEE\"}},\"yaxis\":{\"anchor\":\"x\",\"domain\":[0.0,1.0],\"title\":{\"text\":\"TRAVEL_TIME_MINS\"}},\"legend\":{\"tracegroupgap\":0},\"margin\":{\"t\":60},\"boxmode\":\"group\"},                        {\"responsive\": true}                    ).then(function(){\n",
       "                            \n",
       "var gd = document.getElementById('4dd71560-1575-447b-b6cd-4f557ecf9975');\n",
       "var x = new MutationObserver(function (mutations, observer) {{\n",
       "        var display = window.getComputedStyle(gd).display;\n",
       "        if (!display || display === 'none') {{\n",
       "            console.log([gd, 'removed!']);\n",
       "            Plotly.purge(gd);\n",
       "            observer.disconnect();\n",
       "        }}\n",
       "}});\n",
       "\n",
       "// Listen for the removal of the full notebook cells\n",
       "var notebookContainer = gd.closest('#notebook-container');\n",
       "if (notebookContainer) {{\n",
       "    x.observe(notebookContainer, {childList: true});\n",
       "}}\n",
       "\n",
       "// Listen for the clearing of the current output cell\n",
       "var outputEl = gd.closest('.output');\n",
       "if (outputEl) {{\n",
       "    x.observe(outputEl, {childList: true});\n",
       "}}\n",
       "\n",
       "                        })                };                });            </script>        </div>"
      ]
     },
     "metadata": {},
     "output_type": "display_data"
    }
   ],
   "source": [
    "# use plotly.express to show an interactive boxplot of the data:\n",
    "# easier way to code rather then matplotlib\n",
    "import plotly.express as px\n",
    "\n",
    "fig = px.box(df, x=\"EMPLOYEE\", y=\"TRAVEL_TIME_MINS\")\n",
    "fig.show()"
   ]
  },
  {
   "cell_type": "code",
   "execution_count": null,
   "metadata": {},
   "outputs": [],
   "source": []
  }
 ],
 "metadata": {
  "kernelspec": {
   "display_name": "Python 3",
   "language": "python",
   "name": "python3"
  },
  "language_info": {
   "codemirror_mode": {
    "name": "ipython",
    "version": 3
   },
   "file_extension": ".py",
   "mimetype": "text/x-python",
   "name": "python",
   "nbconvert_exporter": "python",
   "pygments_lexer": "ipython3",
   "version": "3.8.3"
  }
 },
 "nbformat": 4,
 "nbformat_minor": 4
}
